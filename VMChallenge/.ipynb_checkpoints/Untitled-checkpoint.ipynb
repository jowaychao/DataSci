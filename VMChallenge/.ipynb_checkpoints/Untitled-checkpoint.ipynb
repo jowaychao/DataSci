{
 "cells": [
  {
   "cell_type": "code",
   "execution_count": 114,
   "metadata": {},
   "outputs": [],
   "source": [
    "import pandas as pd\n",
    "pd.set_option('display.max_colwidth', -1)\n",
    "import numpy as np\n",
    "import datetime\n",
    "import time\n",
    "import re\n",
    "\n",
    "%matplotlib inline\n",
    "import matplotlib.pyplot as plt\n",
    "import seaborn as sns\n",
    "sns.set_style('whitegrid')\n",
    "\n",
    "import spacy\n",
    "spacy.load('en')\n",
    "from spacy.lang.en.stop_words import STOP_WORDS\n",
    "import nltk\n",
    "#nltk.download('wordnet') Download wordnet if not \n",
    "from nltk.corpus import wordnet as wn\n",
    "from nltk.stem.wordnet import WordNetLemmatizer\n",
    "\n",
    "import gensim\n",
    "from gensim.models.ldamodel import LdaModel\n",
    "from gensim import corpora\n",
    "import pyLDAvis.gensim\n",
    "import warnings\n",
    "warnings.filterwarnings(\"ignore\", category=DeprecationWarning) "
   ]
  },
  {
   "cell_type": "markdown",
   "metadata": {},
   "source": [
    "# The Data\n",
    "\n",
    "You are given the dataset ‘github_comments.tsv’ that carries 4000 comments that were published on pull requests on Github by developer teams.\n",
    "\n",
    "**Comment:** the comment made by a developer on the pull request.  \n",
    "**Comment_date:** date at which the comment was published  \n",
    "**Is_merged:** shows whether the pull request on which the comment was made has been accepted or rejected.  \n",
    "**Merged_at:** date at which the pull request was merged (if accepted).   \n",
    "**Request_changes:** each comment is labelled either 1 or 0: if it’s labelled as 1 if the comment is a request for change in the code. If not, it’s labelled as 0.  "
   ]
  },
  {
   "cell_type": "code",
   "execution_count": 26,
   "metadata": {
    "scrolled": true
   },
   "outputs": [
    {
     "data": {
      "text/html": [
       "<div>\n",
       "<style scoped>\n",
       "    .dataframe tbody tr th:only-of-type {\n",
       "        vertical-align: middle;\n",
       "    }\n",
       "\n",
       "    .dataframe tbody tr th {\n",
       "        vertical-align: top;\n",
       "    }\n",
       "\n",
       "    .dataframe thead th {\n",
       "        text-align: right;\n",
       "    }\n",
       "</style>\n",
       "<table border=\"1\" class=\"dataframe\">\n",
       "  <thead>\n",
       "    <tr style=\"text-align: right;\">\n",
       "      <th></th>\n",
       "      <th>comment</th>\n",
       "      <th>comment_date</th>\n",
       "      <th>is_merged</th>\n",
       "      <th>merged_at</th>\n",
       "      <th>request_changes</th>\n",
       "    </tr>\n",
       "  </thead>\n",
       "  <tbody>\n",
       "    <tr>\n",
       "      <th>0</th>\n",
       "      <td>@chef/maintainers</td>\n",
       "      <td>2017-05-29 10:54:23</td>\n",
       "      <td>0.0</td>\n",
       "      <td>NaN</td>\n",
       "      <td>0</td>\n",
       "    </tr>\n",
       "    <tr>\n",
       "      <th>1</th>\n",
       "      <td>omnibus builds are already in pain so merging to fix those</td>\n",
       "      <td>2017-05-25 20:34:45</td>\n",
       "      <td>1.0</td>\n",
       "      <td>2017-05-25 20:34:27</td>\n",
       "      <td>0</td>\n",
       "    </tr>\n",
       "    <tr>\n",
       "      <th>2</th>\n",
       "      <td>@chef/client-core reviewage (lets not think too hard about the breakpoint resource itself, i just picked it because its the shortest bit of provider code out there)</td>\n",
       "      <td>2017-05-25 17:21:56</td>\n",
       "      <td>1.0</td>\n",
       "      <td>2017-05-25 19:05:10</td>\n",
       "      <td>0</td>\n",
       "    </tr>\n",
       "    <tr>\n",
       "      <th>3</th>\n",
       "      <td>This blows up 14.04 because allow-downgrades is not supported there, so you'll need to figure out the first versions of ubuntu and debian that can safely support this and conditionally add the flag</td>\n",
       "      <td>2017-05-25 19:15:14</td>\n",
       "      <td>0.0</td>\n",
       "      <td>NaN</td>\n",
       "      <td>1</td>\n",
       "    </tr>\n",
       "    <tr>\n",
       "      <th>4</th>\n",
       "      <td>I know @lamont-granquist and @thommay  are going to be unhappy about this one. This is absolutely a short term fix until we get choco on the windows jenkins nodes like it was before our system failure.</td>\n",
       "      <td>2017-05-23 22:58:13</td>\n",
       "      <td>1.0</td>\n",
       "      <td>2017-05-24 04:40:42</td>\n",
       "      <td>0</td>\n",
       "    </tr>\n",
       "  </tbody>\n",
       "</table>\n",
       "</div>"
      ],
      "text/plain": [
       "                                                                                                                                                                                                     comment  \\\n",
       "0  @chef/maintainers                                                                                                                                                                                           \n",
       "1  omnibus builds are already in pain so merging to fix those                                                                                                                                                  \n",
       "2  @chef/client-core reviewage (lets not think too hard about the breakpoint resource itself, i just picked it because its the shortest bit of provider code out there)                                        \n",
       "3  This blows up 14.04 because allow-downgrades is not supported there, so you'll need to figure out the first versions of ubuntu and debian that can safely support this and conditionally add the flag       \n",
       "4  I know @lamont-granquist and @thommay  are going to be unhappy about this one. This is absolutely a short term fix until we get choco on the windows jenkins nodes like it was before our system failure.   \n",
       "\n",
       "          comment_date  is_merged            merged_at  request_changes  \n",
       "0  2017-05-29 10:54:23  0.0        NaN                  0                \n",
       "1  2017-05-25 20:34:45  1.0        2017-05-25 20:34:27  0                \n",
       "2  2017-05-25 17:21:56  1.0        2017-05-25 19:05:10  0                \n",
       "3  2017-05-25 19:15:14  0.0        NaN                  1                \n",
       "4  2017-05-23 22:58:13  1.0        2017-05-24 04:40:42  0                "
      ]
     },
     "execution_count": 26,
     "metadata": {},
     "output_type": "execute_result"
    }
   ],
   "source": [
    "df = pd.read_csv('github_comments.tsv', sep='\\t', index_col=0)\n",
    "df.head()"
   ]
  },
  {
   "cell_type": "markdown",
   "metadata": {},
   "source": [
    "# Text Cleaning\n",
    "**Goal:** Determine the nature of the data and clean out characters and words that do not contribute to the semantics of the comment."
   ]
  },
  {
   "cell_type": "code",
   "execution_count": 27,
   "metadata": {},
   "outputs": [
    {
     "data": {
      "text/plain": [
       "comment            object \n",
       "comment_date       object \n",
       "is_merged          float64\n",
       "merged_at          object \n",
       "request_changes    int64  \n",
       "dtype: object"
      ]
     },
     "execution_count": 27,
     "metadata": {},
     "output_type": "execute_result"
    }
   ],
   "source": [
    "df.dtypes"
   ]
  },
  {
   "cell_type": "code",
   "execution_count": 103,
   "metadata": {},
   "outputs": [],
   "source": [
    "parser = spacy.lang.en.English()\n",
    "\n",
    "\n",
    "def tokenize(comments):\n",
    "    token_list = []\n",
    "    tokens = parser(comments) #Parse the comments with Spacy\n",
    "    for token in tokens:\n",
    "        if token.like_url:\n",
    "            continue #filter out urls\n",
    "        elif token.orth_.startswith('@'):\n",
    "            continue #filter out mentions because they provide no semantic value to topic modelling.\n",
    "        elif token.orth_.isspace():\n",
    "            continue\n",
    "        elif re.match('^[0-9].+[0-9]$', str(token)):\n",
    "            continue\n",
    "        else:\n",
    "            token_list.append(token.lower_)\n",
    "    return token_list\n",
    "\n",
    "\n",
    "def get_lemma(token): #I'm using the WordNet dictionary from NLTK to lemmatize words.\n",
    "    lemma = wn.morphy(token)\n",
    "    if lemma is None:\n",
    "        return token\n",
    "    else:\n",
    "        return lemma\n",
    "\n",
    "\n",
    "def process_text(comments): #Combine both functions and remove stopwords\n",
    "    tokens = tokenize(comments)\n",
    "    tokens = [token for token in tokens if token not in STOP_WORDS]\n",
    "    tokens = [token for token in tokens if len(token)>3] #Helps to remove symbols and contractions that made it through\n",
    "    tokens = [get_lemma(token) for token in tokens]\n",
    "    return tokens"
   ]
  },
  {
   "cell_type": "code",
   "execution_count": 104,
   "metadata": {},
   "outputs": [
    {
     "name": "stdout",
     "output_type": "stream",
     "text": [
      "Tokenizing text took 69.4261200428009 seconds\n"
     ]
    }
   ],
   "source": [
    "start = time.time()\n",
    "df['tokenized'] = df.comment.apply(lambda x: process_text(x))\n",
    "print(f'Tokenizing text took {time.time()-start} seconds')"
   ]
  },
  {
   "cell_type": "code",
   "execution_count": 105,
   "metadata": {
    "scrolled": true
   },
   "outputs": [
    {
     "data": {
      "text/html": [
       "<div>\n",
       "<style scoped>\n",
       "    .dataframe tbody tr th:only-of-type {\n",
       "        vertical-align: middle;\n",
       "    }\n",
       "\n",
       "    .dataframe tbody tr th {\n",
       "        vertical-align: top;\n",
       "    }\n",
       "\n",
       "    .dataframe thead th {\n",
       "        text-align: right;\n",
       "    }\n",
       "</style>\n",
       "<table border=\"1\" class=\"dataframe\">\n",
       "  <thead>\n",
       "    <tr style=\"text-align: right;\">\n",
       "      <th></th>\n",
       "      <th>comment</th>\n",
       "      <th>comment_date</th>\n",
       "      <th>is_merged</th>\n",
       "      <th>merged_at</th>\n",
       "      <th>request_changes</th>\n",
       "      <th>tokenized</th>\n",
       "      <th>tokenized_length</th>\n",
       "    </tr>\n",
       "  </thead>\n",
       "  <tbody>\n",
       "    <tr>\n",
       "      <th>0</th>\n",
       "      <td>@chef/maintainers</td>\n",
       "      <td>2017-05-29 10:54:23</td>\n",
       "      <td>0.0</td>\n",
       "      <td>NaN</td>\n",
       "      <td>0</td>\n",
       "      <td>[maintainer]</td>\n",
       "      <td>1</td>\n",
       "    </tr>\n",
       "    <tr>\n",
       "      <th>1</th>\n",
       "      <td>omnibus builds are already in pain so merging to fix those</td>\n",
       "      <td>2017-05-25 20:34:45</td>\n",
       "      <td>1.0</td>\n",
       "      <td>2017-05-25 20:34:27</td>\n",
       "      <td>0</td>\n",
       "      <td>[omnibus, build, pain, merging]</td>\n",
       "      <td>5</td>\n",
       "    </tr>\n",
       "    <tr>\n",
       "      <th>2</th>\n",
       "      <td>@chef/client-core reviewage (lets not think too hard about the breakpoint resource itself, i just picked it because its the shortest bit of provider code out there)</td>\n",
       "      <td>2017-05-25 17:21:56</td>\n",
       "      <td>1.0</td>\n",
       "      <td>2017-05-25 19:05:10</td>\n",
       "      <td>0</td>\n",
       "      <td>[client, core, reviewage, let, think, hard, breakpoint, resource, pick, short, provider, code]</td>\n",
       "      <td>13</td>\n",
       "    </tr>\n",
       "    <tr>\n",
       "      <th>3</th>\n",
       "      <td>This blows up 14.04 because allow-downgrades is not supported there, so you'll need to figure out the first versions of ubuntu and debian that can safely support this and conditionally add the flag</td>\n",
       "      <td>2017-05-25 19:15:14</td>\n",
       "      <td>0.0</td>\n",
       "      <td>NaN</td>\n",
       "      <td>1</td>\n",
       "      <td>[blow, allow, downgrade, support, need, figure, version, ubuntu, debian, safely, support, conditionally, flag]</td>\n",
       "      <td>15</td>\n",
       "    </tr>\n",
       "    <tr>\n",
       "      <th>4</th>\n",
       "      <td>I know @lamont-granquist and @thommay  are going to be unhappy about this one. This is absolutely a short term fix until we get choco on the windows jenkins nodes like it was before our system failure.</td>\n",
       "      <td>2017-05-23 22:58:13</td>\n",
       "      <td>1.0</td>\n",
       "      <td>2017-05-24 04:40:42</td>\n",
       "      <td>0</td>\n",
       "      <td>[know, granquist, going, unhappy, absolutely, short, term, choco, windows, jenkins, node, like, system, failure]</td>\n",
       "      <td>15</td>\n",
       "    </tr>\n",
       "  </tbody>\n",
       "</table>\n",
       "</div>"
      ],
      "text/plain": [
       "                                                                                                                                                                                                     comment  \\\n",
       "0  @chef/maintainers                                                                                                                                                                                           \n",
       "1  omnibus builds are already in pain so merging to fix those                                                                                                                                                  \n",
       "2  @chef/client-core reviewage (lets not think too hard about the breakpoint resource itself, i just picked it because its the shortest bit of provider code out there)                                        \n",
       "3  This blows up 14.04 because allow-downgrades is not supported there, so you'll need to figure out the first versions of ubuntu and debian that can safely support this and conditionally add the flag       \n",
       "4  I know @lamont-granquist and @thommay  are going to be unhappy about this one. This is absolutely a short term fix until we get choco on the windows jenkins nodes like it was before our system failure.   \n",
       "\n",
       "          comment_date  is_merged            merged_at  request_changes  \\\n",
       "0  2017-05-29 10:54:23  0.0        NaN                  0                 \n",
       "1  2017-05-25 20:34:45  1.0        2017-05-25 20:34:27  0                 \n",
       "2  2017-05-25 17:21:56  1.0        2017-05-25 19:05:10  0                 \n",
       "3  2017-05-25 19:15:14  0.0        NaN                  1                 \n",
       "4  2017-05-23 22:58:13  1.0        2017-05-24 04:40:42  0                 \n",
       "\n",
       "                                                                                                          tokenized  \\\n",
       "0  [maintainer]                                                                                                       \n",
       "1  [omnibus, build, pain, merging]                                                                                    \n",
       "2  [client, core, reviewage, let, think, hard, breakpoint, resource, pick, short, provider, code]                     \n",
       "3  [blow, allow, downgrade, support, need, figure, version, ubuntu, debian, safely, support, conditionally, flag]     \n",
       "4  [know, granquist, going, unhappy, absolutely, short, term, choco, windows, jenkins, node, like, system, failure]   \n",
       "\n",
       "   tokenized_length  \n",
       "0  1                 \n",
       "1  5                 \n",
       "2  13                \n",
       "3  15                \n",
       "4  15                "
      ]
     },
     "execution_count": 105,
     "metadata": {},
     "output_type": "execute_result"
    }
   ],
   "source": [
    "df.head()"
   ]
  },
  {
   "cell_type": "code",
   "execution_count": 106,
   "metadata": {
    "scrolled": false
   },
   "outputs": [],
   "source": [
    "df['tokenized_length'] = df.tokenized.apply(lambda x: len(x))\n",
    "data = df[df.tokenized_length > 1] #Remove comments with 0-1 tokens. They provide little to no semantic value."
   ]
  },
  {
   "cell_type": "code",
   "execution_count": 107,
   "metadata": {},
   "outputs": [
    {
     "data": {
      "image/png": "[encoded data removed]",
      "text/plain": [
       "<Figure size 1080x504 with 1 Axes>"
      ]
     },
     "metadata": {},
     "output_type": "display_data"
    }
   ],
   "source": [
    "plt.figure(figsize=(15,7))\n",
    "sns.distplot(df.tokenized.apply(lambda x: len(x)))\n",
    "plt.xlabel('Length')\n",
    "plt.title('Length Distribution of Tokenized Comments')\n",
    "plt.show()"
   ]
  },
  {
   "cell_type": "markdown",
   "metadata": {},
   "source": [
    "# Topic Identification  \n",
    "**Goal:** Identify Topics by using the gensim implementation of Latent Dirchlet Allocation (LDA).\n",
    "**Latent Dirchlet Allocation (LDA):**\n",
    "Cosine similarity of each row to the topics"
   ]
  },
  {
   "cell_type": "code",
   "execution_count": 121,
   "metadata": {
    "scrolled": true
   },
   "outputs": [
    {
     "name": "stdout",
     "output_type": "stream",
     "text": [
      "(0, '0.058*\"thanks\" + 0.040*\"merge\" + 0.019*\"change\" + 0.016*\"commit\" + 0.013*\"look\"')\n",
      "(1, '0.013*\"method\" + 0.012*\"think\" + 0.011*\"test\" + 0.010*\"case\" + 0.009*\"class\"')\n",
      "(2, '0.014*\"need\" + 0.011*\"session\" + 0.010*\"change\" + 0.007*\"implementation\" + 0.007*\"user\"')\n",
      "(3, '0.051*\"spring\" + 0.021*\"project\" + 0.014*\"hibernate\" + 0.014*\"jenkins\" + 0.012*\"test\"')\n"
     ]
    }
   ],
   "source": [
    "#Create the Bag of Words to be used\n",
    "dictionary = corpora.Dictionary(data.tokenized)\n",
    "corpus = [dictionary.doc2bow(words) for words in data.tokenized]\n",
    "\n",
    "ldamodel = LdaModel(corpus, num_topics=4, id2word=dictionary, passes=15)\n",
    "topics = ldamodel.print_topics(num_words=5)\n",
    "for topic in topics:\n",
    "    print(topic)"
   ]
  },
  {
   "cell_type": "code",
   "execution_count": 122,
   "metadata": {
    "scrolled": false
   },
   "outputs": [
    {
     "data": {
      "text/html": [
       "\n",
       "<link rel=\"stylesheet\" type=\"text/css\" href=\"https://cdn.rawgit.com/bmabey/pyLDAvis/files/ldavis.v1.0.0.css\">\n",
       "\n",
       "\n",
       "<div id=\"ldavis_el3346425118627424962881295709\"></div>\n",
       "<script type=\"text/javascript\">\n",
       "\n",
       "var ldavis_el3346425118627424962881295709_data = {\"mdsDat\": {\"x\": [-0.06748334371783529, -0.10902041227087243, -0.028485197913769786, 0.20498895390247757], \"y\": [0.09635211685798391, 0.05399547196451517, -0.18506702456163351, 0.03471943573913436], \"topics\": [1, 2, 3, 4], \"cluster\": [1, 1, 1, 1], \"Freq\": [33.52620315551758, 27.890045166015625, 23.90578842163086, 14.677959442138672]}, \"tinfo\": {\"Category\": [\"Default\", \"Default\", \"Default\", \"Default\", \"Default\", \"Default\", \"Default\", \"Default\", \"Default\", \"Default\", \"Default\", \"Default\", \"Default\", \"Default\", \"Default\", \"Default\", \"Default\", \"Default\", \"Default\", \"Default\", \"Default\", \"Default\", \"Default\", \"Default\", \"Default\", \"Default\", \"Default\", \"Default\", \"Default\", \"Default\", \"Topic1\", \"Topic1\", \"Topic1\", \"Topic1\", \"Topic1\", \"Topic1\", \"Topic1\", \"Topic1\", \"Topic1\", \"Topic1\", \"Topic1\", \"Topic1\", \"Topic1\", \"Topic1\", \"Topic1\", \"Topic1\", \"Topic1\", \"Topic1\", \"Topic1\", \"Topic1\", \"Topic1\", \"Topic1\", \"Topic1\", \"Topic1\", \"Topic1\", \"Topic1\", \"Topic1\", \"Topic1\", \"Topic1\", \"Topic1\", \"Topic1\", \"Topic1\", \"Topic1\", \"Topic1\", \"Topic1\", \"Topic1\", \"Topic1\", \"Topic1\", \"Topic1\", \"Topic1\", \"Topic1\", \"Topic1\", \"Topic1\", \"Topic1\", \"Topic1\", \"Topic1\", \"Topic1\", \"Topic1\", \"Topic1\", \"Topic1\", \"Topic1\", \"Topic1\", \"Topic1\", \"Topic1\", \"Topic1\", \"Topic1\", \"Topic1\", \"Topic1\", \"Topic1\", \"Topic1\", \"Topic1\", \"Topic1\", \"Topic1\", \"Topic1\", \"Topic1\", \"Topic1\", \"Topic1\", \"Topic1\", \"Topic1\", \"Topic1\", \"Topic2\", \"Topic2\", \"Topic2\", \"Topic2\", \"Topic2\", \"Topic2\", \"Topic2\", \"Topic2\", \"Topic2\", \"Topic2\", \"Topic2\", \"Topic2\", \"Topic2\", \"Topic2\", \"Topic2\", \"Topic2\", \"Topic2\", \"Topic2\", \"Topic2\", \"Topic2\", \"Topic2\", \"Topic2\", \"Topic2\", \"Topic2\", \"Topic2\", \"Topic2\", \"Topic2\", \"Topic2\", \"Topic2\", \"Topic2\", \"Topic2\", \"Topic2\", \"Topic2\", \"Topic2\", \"Topic2\", \"Topic2\", \"Topic2\", \"Topic2\", \"Topic2\", \"Topic2\", \"Topic2\", \"Topic2\", \"Topic2\", \"Topic2\", \"Topic2\", \"Topic2\", \"Topic2\", \"Topic2\", \"Topic2\", \"Topic2\", \"Topic2\", \"Topic2\", \"Topic2\", \"Topic2\", \"Topic2\", \"Topic2\", \"Topic2\", \"Topic2\", \"Topic2\", \"Topic2\", \"Topic2\", \"Topic2\", \"Topic2\", \"Topic2\", \"Topic2\", \"Topic2\", \"Topic2\", \"Topic2\", \"Topic2\", \"Topic2\", \"Topic2\", \"Topic2\", \"Topic2\", \"Topic3\", \"Topic3\", \"Topic3\", \"Topic3\", \"Topic3\", \"Topic3\", \"Topic3\", \"Topic3\", \"Topic3\", \"Topic3\", \"Topic3\", \"Topic3\", \"Topic3\", \"Topic3\", \"Topic3\", \"Topic3\", \"Topic3\", \"Topic3\", \"Topic3\", \"Topic3\", \"Topic3\", \"Topic3\", \"Topic3\", \"Topic3\", \"Topic3\", \"Topic3\", \"Topic3\", \"Topic3\", \"Topic3\", \"Topic3\", \"Topic3\", \"Topic3\", \"Topic3\", \"Topic3\", \"Topic3\", \"Topic3\", \"Topic3\", \"Topic3\", \"Topic3\", \"Topic3\", \"Topic3\", \"Topic3\", \"Topic3\", \"Topic3\", \"Topic3\", \"Topic3\", \"Topic3\", \"Topic3\", \"Topic3\", \"Topic3\", \"Topic3\", \"Topic3\", \"Topic3\", \"Topic3\", \"Topic3\", \"Topic3\", \"Topic3\", \"Topic4\", \"Topic4\", \"Topic4\", \"Topic4\", \"Topic4\", \"Topic4\", \"Topic4\", \"Topic4\", \"Topic4\", \"Topic4\", \"Topic4\", \"Topic4\", \"Topic4\", \"Topic4\", \"Topic4\", \"Topic4\", \"Topic4\", \"Topic4\", \"Topic4\", \"Topic4\", \"Topic4\", \"Topic4\", \"Topic4\", \"Topic4\", \"Topic4\", \"Topic4\", \"Topic4\", \"Topic4\", \"Topic4\", \"Topic4\", \"Topic4\", \"Topic4\", \"Topic4\", \"Topic4\", \"Topic4\", \"Topic4\", \"Topic4\", \"Topic4\", \"Topic4\", \"Topic4\", \"Topic4\", \"Topic4\", \"Topic4\", \"Topic4\", \"Topic4\", \"Topic4\", \"Topic4\", \"Topic4\", \"Topic4\", \"Topic4\", \"Topic4\", \"Topic4\", \"Topic4\", \"Topic4\", \"Topic4\", \"Topic4\", \"Topic4\", \"Topic4\"], \"Freq\": [673.0, 396.0, 463.0, 162.0, 153.0, 98.0, 182.0, 79.0, 74.0, 101.0, 165.0, 236.0, 112.0, 299.0, 101.0, 62.0, 64.0, 128.0, 57.0, 133.0, 85.0, 505.0, 275.0, 128.0, 66.0, 296.0, 131.0, 95.0, 257.0, 80.0, 79.40013122558594, 60.762451171875, 44.040687561035156, 26.688045501708984, 28.144954681396484, 25.913570404052734, 33.19809341430664, 23.650197982788086, 21.798662185668945, 20.31847381591797, 23.745683670043945, 18.701671600341797, 18.373430252075195, 17.619958877563477, 91.94500732421875, 17.71222496032715, 15.7183837890625, 16.7230224609375, 14.147180557250977, 14.092363357543945, 13.251178741455078, 12.9268159866333, 12.341198921203613, 16.69929313659668, 16.06122589111328, 11.573827743530273, 12.005054473876953, 12.260400772094727, 10.99100399017334, 10.822259902954102, 89.67279052734375, 64.37149047851562, 24.974138259887695, 87.97130584716797, 122.32344055175781, 30.540037155151367, 112.56501007080078, 79.5322494506836, 173.43783569335938, 29.066564559936523, 63.841041564941406, 93.69239044189453, 47.14125442504883, 83.2212905883789, 222.57131958007812, 71.01522064208984, 49.878849029541016, 53.78879165649414, 39.349525451660156, 71.14790344238281, 99.61439514160156, 103.34900665283203, 85.60045623779297, 60.05373764038086, 96.81771850585938, 81.8630142211914, 63.913089752197266, 160.4773712158203, 56.1329345703125, 70.30548095703125, 91.59950256347656, 97.22602081298828, 97.31830596923828, 98.05079650878906, 112.54447937011719, 91.23406219482422, 106.773681640625, 76.09750366210938, 69.87312316894531, 66.138916015625, 85.26341247558594, 57.270198822021484, 99.8538818359375, 33.319862365722656, 32.2648811340332, 19.404804229736328, 18.669536590576172, 18.09799575805664, 17.91373062133789, 19.509204864501953, 17.782285690307617, 18.372995376586914, 13.49361801147461, 13.186811447143555, 12.131510734558105, 11.07754898071289, 11.069849014282227, 10.889691352844238, 12.753756523132324, 10.795733451843262, 11.20274829864502, 10.420794486999512, 10.04300594329834, 9.820308685302734, 9.745043754577637, 9.564579010009766, 10.790730476379395, 9.787577629089355, 9.781997680664062, 9.123080253601074, 37.956295013427734, 35.02090072631836, 24.50832176208496, 30.221473693847656, 27.625463485717773, 19.521238327026367, 36.14502716064453, 91.80267333984375, 101.84696197509766, 17.90220832824707, 73.22084045410156, 14.21816635131836, 59.22952651977539, 176.74850463867188, 46.61370849609375, 142.3953094482422, 63.53255081176758, 47.58971405029297, 118.5599365234375, 76.38125610351562, 49.78832244873047, 162.34095764160156, 56.686607360839844, 29.55760383605957, 83.99840545654297, 153.7384796142578, 39.0806884765625, 68.16050720214844, 48.33985900878906, 80.04154205322266, 60.862586975097656, 70.12177276611328, 116.83067321777344, 85.13003540039062, 69.09255981445312, 92.6607437133789, 61.670982360839844, 75.94772338867188, 60.391502380371094, 70.14202117919922, 62.16197204589844, 61.40803146362305, 61.01003646850586, 461.9828796386719, 670.6033935546875, 65.28441619873047, 100.23600006103516, 26.61856460571289, 25.14698600769043, 20.567310333251953, 18.934722900390625, 17.530895233154297, 17.329627990722656, 17.055809020996094, 17.117691040039062, 17.159805297851562, 16.145544052124023, 16.25874137878418, 15.01513671875, 40.667781829833984, 12.460426330566406, 12.001492500305176, 11.304919242858887, 11.216815948486328, 13.518515586853027, 63.90337371826172, 10.56472396850586, 9.533317565917969, 9.13365364074707, 8.857848167419434, 104.04113006591797, 8.950331687927246, 8.507241249084473, 38.914730072021484, 105.88085174560547, 131.3203887939453, 64.2977066040039, 134.0775604248047, 49.683502197265625, 188.5020294189453, 33.60758590698242, 153.693115234375, 85.19534301757812, 115.43385314941406, 221.41549682617188, 107.33183288574219, 67.36282348632812, 93.68036651611328, 45.454593658447266, 147.43093872070312, 130.3566436767578, 87.3075942993164, 99.06497192382812, 57.57928466796875, 67.5704116821289, 73.33330535888672, 49.634281158447266, 71.09549713134766, 51.83029556274414, 47.802520751953125, 97.43402862548828, 79.05282592773438, 73.58199310302734, 57.23574447631836, 41.42015075683594, 35.65607452392578, 60.738277435302734, 17.278339385986328, 20.340984344482422, 15.077925682067871, 15.28438949584961, 14.77861213684082, 16.206087112426758, 14.253323554992676, 14.036097526550293, 12.046424865722656, 11.308647155761719, 11.070651054382324, 21.240123748779297, 9.686031341552734, 9.679482460021973, 151.04550170898438, 60.39772033691406, 8.471761703491211, 8.470266342163086, 7.619110584259033, 363.27203369140625, 7.182247161865234, 7.55647611618042, 6.619421005249023, 22.534440994262695, 21.705322265625, 19.296627044677734, 19.240421295166016, 17.812681198120117, 100.02613067626953, 71.37543487548828, 13.533324241638184, 60.22083282470703, 44.56406021118164, 43.12255859375, 33.15258026123047, 39.048954010009766, 39.101783752441406, 86.74227142333984, 45.85622024536133, 24.234914779663086, 49.462799072265625, 44.479949951171875, 48.68186569213867, 28.348289489746094, 32.44619369506836, 40.977046966552734, 33.66448211669922, 28.19263458251953, 33.373390197753906, 31.037742614746094, 30.767759323120117], \"Term\": [\"thanks\", \"spring\", \"merge\", \"project\", \"hibernate\", \"jenkins\", \"master\", \"sign\", \"retest\", \"rebased\", \"comment\", \"session\", \"push\", \"commit\", \"constraint\", \"pull\", \"boot\", \"fix\", \"license\", \"request\", \"flush\", \"change\", \"look\", \"version\", \"great\", \"method\", \"annotation\", \"elasticsearch\", \"case\", \"analyzer\", \"analyzer\", \"lucene\", \"nest\", \"indexresolver\", \"database\", \"gemfire\", \"store\", \"port\", \"wrap\", \"encoding\", \"json\", \"map\", \"sessionrepository\", \"findbyindexnamesessionrepository\", \"elasticsearch\", \"reading\", \"submit\", \"event\", \"cache\", \"legacy\", \"design\", \"inner\", \"org.springframework.beans.factory.beancreationexception\", \"enum\", \"deal\", \"expiringsession\", \"early\", \"sessionrepositoryfilter\", \"scoped\", \"principal\", \"object\", \"bean\", \"share\", \"query\", \"implementation\", \"sessions\", \"user\", \"reference\", \"session\", \"server\", \"attribute\", \"support\", \"avoid\", \"field\", \"need\", \"specific\", \"instance\", \"module\", \"service\", \"configuration\", \"want\", \"type\", \"index\", \"instead\", \"create\", \"default\", \"different\", \"change\", \"sample\", \"value\", \"class\", \"case\", \"issue\", \"method\", \"think\", \"like\", \"test\", \"add\", \"maybe\", \"sure\", \"flush\", \"node\", \"constraint\", \"element\", \"jandex\", \"boolean\", \"receive\", \"elements\", \"validate\", \"waiting\", \"invalid\", \"cool\", \"notifications@github.com\", \"unwrap\", \"synchronization\", \"writer\", \"processor\", \"forceasync\", \"paste\", \"away\", \"proxy\", \"affect\", \"millis\", \"weight\", \"calling\", \"errorhandler\", \"parameternameprovider\", \"size\", \"cascade\", \"mute\", \"private\", \"collection\", \"email\", \"stream\", \"pattern\", \"operation\", \"container\", \"parameter\", \"annotation\", \"block\", \"string\", \"async\", \"document\", \"method\", \"path\", \"case\", \"property\", \"null\", \"class\", \"check\", \"base\", \"think\", \"return\", \"number\", \"type\", \"test\", \"idea\", \"index\", \"public\", \"good\", \"value\", \"work\", \"change\", \"like\", \"create\", \"need\", \"default\", \"look\", \"right\", \"issue\", \"maybe\", \"remove\", \"sure\", \"merge\", \"thanks\", \"great\", \"rebased\", \"polish\", \"style\", \"squash\", \"apart\", \"trust\", \"whitelist\", \"person\", \"typo\", \"asciidoc\", \"duration\", \"backported\", \"admins\", \"minor\", \"sequence\", \"rework\", \"image\", \"coming\", \"contribution\", \"review\", \"inline\", \"scope\", \"prepare\", \"travis\", \"push\", \"experimental\", \"major\", \"feedback\", \"fix\", \"comment\", \"bekhta\", \"master\", \"doc\", \"commit\", \"force\", \"look\", \"apply\", \"update\", \"change\", \"good\", \"nice\", \"code\", \"documentation\", \"test\", \"think\", \"add\", \"issue\", \"build\", \"right\", \"like\", \"version\", \"need\", \"remove\", \"know\", \"jenkins\", \"sign\", \"retest\", \"license\", \"contributor\", \"spring?repositoryid\", \"pull\", \"ask\", \"status\", \"agreement\", \"sanne\", \"workspace\", \"amend\", \"restdocs\", \"signing\", \"/home\", \"click\", \"facet\", \"forget\", \"jboss\", \"cherry\", \"project\", \"boot\", \"language\", \"getter\", \"contributing.md#sign\", \"spring\", \"createhsquery\", \"pom.xml\", \"blank\", \"blob\", \"gradle\", \"sync\", \"root\", \"integrate\", \"hibernate\", \"request\", \"frequently\", \"version\", \"data\", \"release\", \"branch\", \"search\", \"java\", \"test\", \"master\", \"thank\", \"session\", \"remove\", \"like\", \"dependency\", \"build\", \"need\", \"update\", \"file\", \"commit\", \"sure\", \"look\"], \"Total\": [673.0, 396.0, 463.0, 162.0, 153.0, 98.0, 182.0, 79.0, 74.0, 101.0, 165.0, 236.0, 112.0, 299.0, 101.0, 62.0, 64.0, 128.0, 57.0, 133.0, 85.0, 505.0, 275.0, 128.0, 66.0, 296.0, 131.0, 95.0, 257.0, 80.0, 80.08236694335938, 61.486854553222656, 44.72541809082031, 27.370515823364258, 28.87347412109375, 26.613332748413086, 34.17011260986328, 24.34680938720703, 22.495887756347656, 20.988605499267578, 24.581968307495117, 19.38966178894043, 19.055845260620117, 18.300861358642578, 95.74009704589844, 18.460418701171875, 16.422922134399414, 17.520957946777344, 14.829164505004883, 14.772324562072754, 13.932576179504395, 13.621769905090332, 13.011310577392578, 17.60649871826172, 16.99034309387207, 12.25454330444336, 12.72563362121582, 13.008919715881348, 11.666444778442383, 11.499186515808105, 97.87010192871094, 69.81517028808594, 27.456361770629883, 104.95028686523438, 149.74609375, 34.328739166259766, 141.89878845214844, 98.96553039550781, 236.35546875, 32.972774505615234, 79.98258972167969, 123.21048736572266, 60.44564437866211, 122.22914123535156, 427.3045959472656, 105.89494323730469, 67.93830108642578, 74.89299774169922, 50.257835388183594, 114.99942016601562, 182.6533660888672, 193.6976776123047, 154.23641967773438, 94.5323486328125, 197.5301055908203, 156.95468139648438, 108.52766418457031, 505.1313781738281, 90.52877807617188, 135.0837860107422, 228.6436767578125, 257.6027526855469, 288.3879089355469, 296.2608947753906, 413.3697204589844, 298.3792724609375, 494.68536376953125, 221.56390380859375, 184.4204864501953, 192.03469848632812, 85.9819564819336, 58.060333251953125, 101.32054901123047, 34.05366134643555, 32.9823112487793, 20.135990142822266, 19.391103744506836, 18.8359317779541, 18.649337768554688, 20.363506317138672, 18.590803146362305, 19.223350524902344, 14.234643936157227, 13.932372093200684, 12.862099647521973, 11.792017936706543, 11.793195724487305, 11.606285095214844, 13.618029594421387, 11.540895462036133, 11.990132331848145, 11.169172286987305, 10.772452354431152, 10.537226676940918, 10.469099998474121, 10.282318115234375, 11.6146821975708, 10.540332794189453, 10.54553508758545, 9.840596199035645, 41.13020706176758, 38.0812873840332, 26.734460830688477, 33.30585479736328, 30.830772399902344, 21.707239151000977, 41.56610870361328, 113.83988189697266, 131.01992797851562, 19.992809295654297, 92.68339538574219, 15.767251968383789, 82.15644836425781, 296.2608947753906, 64.69143676757812, 257.6027526855469, 99.23136901855469, 70.7704849243164, 228.6436767578125, 139.90975952148438, 78.81759643554688, 413.3697204589844, 97.06686401367188, 39.544132232666016, 193.6976776123047, 494.68536376953125, 60.834877014160156, 154.23641967773438, 88.25013732910156, 211.6183319091797, 135.0837860107422, 178.3678436279297, 505.1313781738281, 298.3792724609375, 197.5301055908203, 427.3045959472656, 156.95468139648438, 275.29974365234375, 166.33363342285156, 288.3879089355469, 184.4204864501953, 186.6640167236328, 192.03469848632812, 463.8898010253906, 673.952880859375, 66.19718170166016, 101.9825439453125, 27.328689575195312, 25.865678787231445, 21.28130340576172, 19.6649227142334, 18.2297420501709, 18.028650283813477, 17.751314163208008, 17.82767105102539, 17.877817153930664, 16.868879318237305, 16.999008178710938, 15.709949493408203, 42.679176330566406, 13.188557624816895, 12.710775375366211, 12.031767845153809, 11.953332901000977, 14.415262222290039, 68.14656066894531, 11.275480270385742, 10.242873191833496, 9.83932113647461, 9.562406539916992, 112.38810729980469, 9.71187973022461, 9.232409477233887, 42.5357666015625, 128.6144561767578, 165.3218231201172, 79.66251373291016, 182.0435791015625, 64.5552978515625, 299.337646484375, 43.23318862915039, 275.29974365234375, 138.05624389648438, 216.9356689453125, 505.1313781738281, 211.6183319091797, 119.303955078125, 192.09202575683594, 79.65715026855469, 494.68536376953125, 413.3697204589844, 221.56390380859375, 288.3879089355469, 121.47135925292969, 166.33363342285156, 298.3792724609375, 128.42486572265625, 427.3045959472656, 186.6640167236328, 142.66165161132812, 98.11270904541016, 79.75008392333984, 74.25810241699219, 57.9175910949707, 42.09735107421875, 36.332000732421875, 62.24796676635742, 17.968027114868164, 21.204509735107422, 15.7551908493042, 15.972363471984863, 15.454882621765137, 16.951753616333008, 14.935171127319336, 14.716829299926758, 12.72236156463623, 11.984560012817383, 11.763090133666992, 22.570926666259766, 10.371142387390137, 10.370333671569824, 162.33265686035156, 64.9615249633789, 9.190921783447266, 9.190814971923828, 8.295515060424805, 396.1705322265625, 7.858179569244385, 8.2902193069458, 7.332537651062012, 25.397912979125977, 25.040796279907227, 22.52458953857422, 22.455453872680664, 21.389610290527344, 153.63966369628906, 133.26327514648438, 15.896878242492676, 128.42486572265625, 85.97740173339844, 85.11970520019531, 59.878761291503906, 86.65202331542969, 98.23371887207031, 494.68536376953125, 182.0435791015625, 44.779441833496094, 236.35546875, 186.6640167236328, 298.3792724609375, 70.24310302734375, 121.47135925292969, 427.3045959472656, 216.9356689453125, 108.1013412475586, 299.337646484375, 192.03469848632812, 275.29974365234375], \"loglift\": [30.0, 29.0, 28.0, 27.0, 26.0, 25.0, 24.0, 23.0, 22.0, 21.0, 20.0, 19.0, 18.0, 17.0, 16.0, 15.0, 14.0, 13.0, 12.0, 11.0, 10.0, 9.0, 8.0, 7.0, 6.0, 5.0, 4.0, 3.0, 2.0, 1.0, 1.0843000411987305, 1.0809999704360962, 1.0773999691009521, 1.0676000118255615, 1.0672999620437622, 1.0662000179290771, 1.0640000104904175, 1.0637999773025513, 1.061400055885315, 1.0604000091552734, 1.0582000017166138, 1.0566999912261963, 1.056399941444397, 1.054900050163269, 1.05239999294281, 1.0514999628067017, 1.0490000247955322, 1.0462000370025635, 1.045799970626831, 1.045699954032898, 1.0427000522613525, 1.0405000448226929, 1.0399999618530273, 1.0398999452590942, 1.0365999937057495, 1.0356999635696411, 1.034600019454956, 1.0335999727249146, 1.0332000255584717, 1.0321999788284302, 1.0053999423980713, 1.0117000341415405, 0.9980999827384949, 0.9164000153541565, 0.8906000256538391, 0.9758999943733215, 0.861299991607666, 0.8741999864578247, 0.78329998254776, 0.96670001745224, 0.8673999905586243, 0.8190000057220459, 0.8442000150680542, 0.7084000110626221, 0.4406000077724457, 0.6933000087738037, 0.7838000059127808, 0.7617999911308289, 0.8482000231742859, 0.6126999855041504, 0.48660001158714294, 0.46470001339912415, 0.5040000081062317, 0.6391000151634216, 0.3797999918460846, 0.44190001487731934, 0.5633999705314636, -0.05380000174045563, 0.6148999929428101, 0.4397999942302704, 0.17810000479221344, 0.1185000017285347, 0.006500000134110451, -0.012900000438094139, -0.20819999277591705, -0.09210000187158585, -0.44040000438690186, 0.02410000003874302, 0.12229999899864197, 0.026900000870227814, 1.2684999704360962, 1.263200044631958, 1.2623000144958496, 1.2551000118255615, 1.2548999786376953, 1.23989999294281, 1.2389999628067017, 1.236899971961975, 1.2367000579833984, 1.2339999675750732, 1.2323999404907227, 1.2316999435424805, 1.2233999967575073, 1.2218999862670898, 1.218400001525879, 1.214400053024292, 1.2136000394821167, 1.2131999731063843, 1.211300015449524, 1.2101999521255493, 1.2089999914169312, 1.2074999809265137, 1.2067999839782715, 1.2064000368118286, 1.205199956893921, 1.2044999599456787, 1.2032999992370605, 1.2028000354766846, 1.20169997215271, 1.201200008392334, 1.1965999603271484, 1.1930999755859375, 1.190000057220459, 1.1797000169754028, 1.167099952697754, 1.170799970626831, 1.1371999979019165, 1.0616999864578247, 1.024999976158142, 1.1664999723434448, 1.041200041770935, 1.1734999418258667, 0.9496999979019165, 0.7603999972343445, 0.9491999745368958, 0.6840999722480774, 0.8309999704360962, 0.8801000118255615, 0.620199978351593, 0.6715999841690063, 0.8174999952316284, 0.3422999978065491, 0.7390000224113464, 0.98580002784729, 0.4413999915122986, 0.10819999873638153, 0.8343999981880188, 0.4602999985218048, 0.675000011920929, 0.30469998717308044, 0.4796000123023987, 0.3433000147342682, -0.18719999492168427, 0.022700000554323196, 0.226500004529953, -0.2517000138759613, 0.34279999136924744, -0.010900000110268593, 0.2637999951839447, -0.13689999282360077, 0.18940000236034393, 0.16509999334812164, 0.13030000030994415, 1.426900029182434, 1.4261000156402588, 1.417199969291687, 1.4138000011444092, 1.4047000408172607, 1.402899980545044, 1.3969000577926636, 1.3932000398635864, 1.3919999599456787, 1.3914999961853027, 1.3911000490188599, 1.3904000520706177, 1.3901000022888184, 1.3871999979019165, 1.3865000009536743, 1.3858000040054321, 1.3827999830245972, 1.3743000030517578, 1.3736000061035156, 1.3687000274658203, 1.3674999475479126, 1.3667999505996704, 1.3667999505996704, 1.3659000396728516, 1.3593000173568726, 1.356600046157837, 1.3545000553131104, 1.3538999557495117, 1.3494000434875488, 1.3492000102996826, 1.3421000242233276, 1.2365000247955322, 1.2007999420166016, 1.2167999744415283, 1.1252000331878662, 1.1691999435424805, 0.9685999751091003, 1.1792000532150269, 0.8481000065803528, 0.9483000040054321, 0.8001000285148621, 0.6062999963760376, 0.7522000074386597, 0.859499990940094, 0.7129999995231628, 0.8700000047683716, 0.22050000727176666, 0.2770000100135803, 0.4997999966144562, 0.36250001192092896, 0.684499979019165, 0.5302000045776367, 0.027699999511241913, 0.4803999960422516, -0.36239999532699585, 0.14970000088214874, 0.3377000093460083, 1.9119000434875488, 1.909999966621399, 1.9097000360488892, 1.906999945640564, 1.9026000499725342, 1.899999976158142, 1.8942999839782715, 1.879699945449829, 1.8772000074386597, 1.874899983406067, 1.8747999668121338, 1.8740999698638916, 1.8738000392913818, 1.8720999956130981, 1.871500015258789, 1.8641999959945679, 1.86080002784729, 1.858199954032898, 1.8581000566482544, 1.8504999876022339, 1.8499000072479248, 1.8467999696731567, 1.8459999561309814, 1.8372999429702759, 1.8372000455856323, 1.833799958229065, 1.8321000337600708, 1.8288999795913696, 1.826200008392334, 1.816499948501587, 1.7992000579833984, 1.7759000062942505, 1.7640999555587769, 1.764299988746643, 1.73580002784729, 1.4895999431610107, 1.2944999933242798, 1.7578999996185303, 1.1614999771118164, 1.2617000341415405, 1.238800048828125, 1.3276000022888184, 1.1217000484466553, 0.9976000189781189, 0.1777999997138977, 0.5400999784469604, 1.304900050163269, 0.3546999990940094, 0.4846000075340271, 0.10580000281333923, 1.0113999843597412, 0.5986999869346619, -0.42570000886917114, 0.05570000037550926, 0.5748000144958496, -0.2750000059604645, 0.09640000015497208, -0.272599995136261], \"logprob\": [30.0, 29.0, 28.0, 27.0, 26.0, 25.0, 24.0, 23.0, 22.0, 21.0, 20.0, 19.0, 18.0, 17.0, 16.0, 15.0, 14.0, 13.0, 12.0, 11.0, 10.0, 9.0, 8.0, 7.0, 6.0, 5.0, 4.0, 3.0, 2.0, 1.0, -5.325699806213379, -5.593200206756592, -5.91510009765625, -6.415999889373779, -6.362800121307373, -6.445400238037109, -6.197700023651123, -6.536799907684326, -6.6184000968933105, -6.688700199127197, -6.532800197601318, -6.771599769592285, -6.789299964904785, -6.831200122833252, -5.178999900817871, -6.825900077819824, -6.945400238037109, -6.883399963378906, -7.0507001876831055, -7.054599761962891, -7.116099834442139, -7.140900135040283, -7.187300205230713, -6.884799957275391, -6.923799991607666, -7.251500129699707, -7.214900016784668, -7.19379997253418, -7.303100109100342, -7.318600177764893, -5.203999996185303, -5.5355000495910645, -6.482399940490723, -5.223199844360352, -4.893499851226807, -6.281199932098389, -4.9766998291015625, -5.323999881744385, -4.544400215148926, -6.330599784851074, -5.543799877166748, -5.160200119018555, -5.847099781036377, -5.27869987487793, -4.295000076293945, -5.437300205230713, -5.790599822998047, -5.715099811553955, -6.027699947357178, -5.435400009155273, -5.098899841308594, -5.062099933624268, -5.250500202178955, -5.605000019073486, -5.127399921417236, -5.295199871063232, -5.542699813842773, -4.622000217437744, -5.672500133514404, -5.447400093078613, -5.182799816131592, -5.123199939727783, -5.122200012207031, -5.114699840545654, -4.976900100708008, -5.186800003051758, -5.0295000076293945, -5.368199825286865, -5.453499794006348, -5.508399963378906, -5.070400238037109, -5.468400001525879, -4.912399768829346, -6.010000228881836, -6.042200088500977, -6.550600051879883, -6.589300155639648, -6.620299816131592, -6.6305999755859375, -6.545300006866455, -6.637899875640869, -6.605299949645996, -6.913899898529053, -6.9369001388549805, -7.020299911499023, -7.111199855804443, -7.1118998527526855, -7.128300189971924, -6.970300197601318, -7.13700008392334, -7.099999904632568, -7.172299861907959, -7.2093000411987305, -7.2316999435424805, -7.2393999099731445, -7.2581000328063965, -7.137499809265137, -7.235000133514404, -7.235599994659424, -7.305300235748291, -5.879700183868408, -5.96019983291626, -6.3171000480651855, -6.107600212097168, -6.197400093078613, -6.544600009918213, -5.928599834442139, -4.996500015258789, -4.8927001953125, -6.631199836730957, -5.222700119018555, -6.861599922180176, -5.434700012207031, -4.341400146484375, -5.674200057983398, -4.557499885559082, -5.36460018157959, -5.653500080108643, -4.740699768066406, -5.1803998947143555, -5.608399868011475, -4.426400184631348, -5.478600025177002, -6.129799842834473, -5.085299968719482, -4.480899810791016, -5.850500106811523, -5.294300079345703, -5.637899875640869, -5.133600234985352, -5.40749979019165, -5.265900135040283, -4.75540018081665, -5.072000026702881, -5.280700206756592, -4.987199783325195, -5.3942999839782715, -5.186100006103516, -5.415299892425537, -5.265600204467773, -5.38640022277832, -5.398600101470947, -5.405099868774414, -3.2265000343322754, -2.853800058364868, -5.183199882507324, -4.754499912261963, -6.080399990081787, -6.13730001449585, -6.3383002281188965, -6.421000003814697, -6.498000144958496, -6.5096001625061035, -6.5254998207092285, -6.521900177001953, -6.519400119781494, -6.580399990081787, -6.573400020599365, -6.652900218963623, -5.656599998474121, -6.839399814605713, -6.876999855041504, -6.936800003051758, -6.9446001052856445, -6.757900238037109, -5.204599857330322, -7.004499912261963, -7.1072001457214355, -7.150000095367432, -7.180699825286865, -4.717199802398682, -7.170300006866455, -7.221099853515625, -5.7006001472473145, -4.699699878692627, -4.484399795532227, -5.198500156402588, -4.463600158691406, -5.456299781799316, -4.122900009155273, -5.8471999168396, -4.327000141143799, -4.916999816894531, -4.61329984664917, -3.9619998931884766, -4.686100006103516, -5.151899814605713, -4.8221001625061035, -5.545300006866455, -4.368599891662598, -4.491700172424316, -4.892600059509277, -4.766200065612793, -5.308800220489502, -5.148799896240234, -5.066999912261963, -5.457300186157227, -5.0980000495910645, -5.414000034332275, -5.494900226593018, -4.295000076293945, -4.5040998458862305, -4.575799942016602, -4.827000141143799, -5.1504998207092285, -5.300300121307373, -4.767600059509277, -6.024799823760986, -5.861599922180176, -6.160999774932861, -6.14739990234375, -6.181000232696533, -6.088799953460693, -6.217199802398682, -6.232600212097168, -6.385499954223633, -6.448699951171875, -6.469900131225586, -5.818299770355225, -6.603499889373779, -6.6041998863220215, -3.856600046157837, -4.7733001708984375, -6.737500190734863, -6.73769998550415, -6.843599796295166, -2.979099988937378, -6.902599811553955, -6.851799964904785, -6.9842000007629395, -5.759200096130371, -5.7967000007629395, -5.914299964904785, -5.917200088500977, -5.99429988861084, -4.268799781799316, -4.606299877166748, -6.269100189208984, -4.776199817657471, -5.077300071716309, -5.110199928283691, -5.3730998039245605, -5.209400177001953, -5.208099842071533, -4.411300182342529, -5.048699855804443, -5.686399936676025, -4.9730000495910645, -5.07919979095459, -4.988900184631348, -5.529699802398682, -5.394599914550781, -5.161200046539307, -5.357800006866455, -5.535200119018555, -5.366499900817871, -5.439000129699707, -5.447800159454346]}, \"token.table\": {\"Topic\": [4, 1, 2, 3, 4, 3, 2, 4, 4, 1, 1, 2, 4, 3, 1, 2, 3, 4, 3, 4, 1, 2, 1, 2, 1, 2, 3, 2, 3, 1, 2, 3, 4, 1, 2, 2, 3, 4, 1, 4, 1, 2, 2, 1, 4, 1, 3, 4, 1, 2, 3, 4, 1, 2, 2, 1, 2, 3, 4, 1, 2, 3, 4, 1, 2, 3, 4, 4, 1, 2, 3, 4, 4, 1, 2, 3, 4, 1, 2, 3, 3, 1, 2, 3, 4, 1, 2, 3, 4, 1, 2, 3, 4, 2, 3, 1, 2, 4, 3, 4, 2, 1, 2, 3, 4, 4, 1, 2, 3, 4, 1, 1, 1, 2, 3, 4, 1, 4, 1, 1, 2, 3, 1, 2, 3, 4, 1, 2, 3, 1, 2, 3, 4, 3, 1, 1, 2, 2, 2, 2, 3, 1, 1, 2, 1, 3, 1, 4, 1, 3, 1, 2, 1, 2, 3, 4, 1, 1, 2, 3, 4, 2, 1, 2, 3, 2, 1, 4, 2, 4, 1, 4, 1, 2, 3, 4, 3, 4, 3, 1, 2, 4, 1, 2, 3, 4, 3, 1, 2, 3, 1, 2, 1, 3, 1, 1, 2, 3, 1, 2, 3, 4, 1, 2, 4, 2, 1, 2, 3, 4, 2, 1, 2, 3, 4, 4, 4, 1, 1, 2, 3, 4, 4, 1, 4, 1, 2, 3, 4, 1, 2, 3, 4, 1, 3, 1, 1, 3, 4, 1, 2, 3, 4, 1, 3, 1, 2, 3, 4, 2, 1, 3, 1, 2, 3, 4, 2, 1, 2, 3, 4, 1, 1, 2, 3, 4, 2, 2, 1, 2, 1, 2, 4, 1, 2, 3, 1, 2, 1, 1, 2, 3, 2, 2, 1, 2, 3, 4, 2, 3, 3, 3, 4, 1, 3, 1, 1, 2, 3, 2, 1, 3, 4, 1, 2, 3, 4, 2, 1, 2, 3, 1, 4, 2, 3, 1, 2, 4, 1, 2, 3, 2, 1, 2, 3, 1, 2, 3, 4, 1, 2, 3, 4, 1, 2, 3, 4, 4, 4, 1, 2, 1, 3, 4, 3, 1, 2, 3, 4, 1, 4, 1, 3, 4, 4, 3, 1, 1, 2, 4, 3, 1, 4, 1, 2, 3, 1, 3, 4, 1, 1, 1, 2, 3, 1, 2, 4, 4, 2, 1, 2, 3, 1, 3, 4, 4, 3, 4, 1, 3, 1, 2, 1, 2, 3, 4, 3, 1, 1, 2, 3, 4, 1, 2, 3, 4, 1, 4, 2, 1, 2, 3, 4, 1, 3, 4, 1, 2, 3, 4, 1, 2, 3, 4, 3, 3, 1, 2, 4, 3, 2, 1, 2, 3, 4, 1, 2, 3, 4, 2, 1, 2, 4, 1, 2, 3, 4, 2, 1, 2, 3, 4, 2, 3, 1, 2, 3, 4, 4, 1, 2], \"Freq\": [0.9432210922241211, 0.3430161476135254, 0.23469527065753937, 0.39266324043273926, 0.027080222964286804, 0.9548089504241943, 0.8953214883804321, 0.9520671963691711, 0.9438551664352417, 0.9864843487739563, 0.206075519323349, 0.7785075306892395, 0.007632426917552948, 0.9661873579025269, 0.06519082188606262, 0.21005931496620178, 0.615691065788269, 0.10865136981010437, 0.950899064540863, 0.9461250305175781, 0.06342259049415588, 0.8879163265228271, 0.8001741170883179, 0.20004352927207947, 0.7775580883026123, 0.18198168277740479, 0.03308757767081261, 0.9531322717666626, 0.941231369972229, 0.12687522172927856, 0.6343761086463928, 0.1649377942085266, 0.0761251300573349, 0.9167062044143677, 0.07161767035722733, 0.18829433619976044, 0.8033891320228577, 0.954649031162262, 0.07874662429094315, 0.9055862426757812, 0.10003596544265747, 0.9003236889839172, 0.9435840845108032, 0.06157490983605385, 0.9236236214637756, 0.11690288782119751, 0.31730782985687256, 0.5511136054992676, 0.2058098316192627, 0.05762675404548645, 0.4774788022041321, 0.26343658566474915, 0.9440855383872986, 0.955191969871521, 0.9482685923576355, 0.37654876708984375, 0.5512363314628601, 0.06599308550357819, 0.0038819462060928345, 0.3167492747306824, 0.23162290453910828, 0.4375099539756775, 0.011878098361194134, 0.321635901927948, 0.5432072877883911, 0.07862210273742676, 0.05717971548438072, 0.964289128780365, 0.402372807264328, 0.5204604864120483, 0.06997787952423096, 0.013120852410793304, 0.9178476333618164, 0.2915269434452057, 0.21864520013332367, 0.48934879899024963, 0.00520583800971508, 0.026259616017341614, 0.9190865755081177, 0.05251923203468323, 0.9202454090118408, 0.08468331396579742, 0.11492735892534256, 0.7923938632011414, 0.006048808339983225, 0.10690268874168396, 0.15367262065410614, 0.6313940286636353, 0.11024340242147446, 0.6173943877220154, 0.2695665657520294, 0.008695696480572224, 0.11304404586553574, 0.986966609954834, 0.009869665838778019, 0.12029030919075012, 0.8660902380943298, 0.9643765091896057, 0.9711928963661194, 0.9739330410957336, 0.9363611936569214, 0.4910643994808197, 0.3493138551712036, 0.055687714368104935, 0.10631290823221207, 0.8907915353775024, 0.3838217854499817, 0.06978578120470047, 0.02326192706823349, 0.5233933329582214, 0.9697481989860535, 0.94171142578125, 0.5224437713623047, 0.39501848816871643, 0.07645519077777863, 0.01274253148585558, 0.5836871862411499, 0.39861565828323364, 0.9330650568008423, 0.5897113680839539, 0.28564146161079407, 0.1197851300239563, 0.12392476201057434, 0.015490595251321793, 0.774529755115509, 0.07745297998189926, 0.2677817940711975, 0.718142032623291, 0.01217189896851778, 0.25107601284980774, 0.15064561367034912, 0.5649210214614868, 0.025107601657509804, 0.948492169380188, 0.94297856092453, 0.9609348773956299, 0.031334832310676575, 0.9690588116645813, 0.9556203484535217, 0.9351226687431335, 0.07480981200933456, 0.9528979659080505, 0.965552568435669, 0.9725433588027954, 0.970266580581665, 0.9267001152038574, 0.979228675365448, 0.9351284503936768, 0.07052887976169586, 0.916875422000885, 0.679052472114563, 0.3190728425979614, 0.24051505327224731, 0.4070254862308502, 0.0925057902932167, 0.259016215801239, 0.9835602641105652, 0.02332552708685398, 0.13995316624641418, 0.8241686224937439, 0.015550351701676846, 0.988579511642456, 0.09252151101827621, 0.13878226280212402, 0.7864328622817993, 0.9477623701095581, 0.04430478438735008, 0.9304004311561584, 0.12581086158752441, 0.8806760311126709, 0.97695392370224, 0.8704342246055603, 0.09450977295637131, 0.37803909182548523, 0.5056272745132446, 0.018901953473687172, 0.1198044940829277, 0.878566324710846, 0.9819149374961853, 0.3384542763233185, 0.013017471879720688, 0.650873601436615, 0.16437938809394836, 0.6410796046257019, 0.16437938809394836, 0.016437938436865807, 0.9142463803291321, 0.814712405204773, 0.1602712869644165, 0.020033910870552063, 0.5575855374336243, 0.440881609916687, 0.9864629507064819, 0.9755681753158569, 0.9543547034263611, 0.7359618544578552, 0.22078856825828552, 0.044157713651657104, 0.6347033381462097, 0.30677330493927, 0.010578389279544353, 0.05289194732904434, 0.14025500416755676, 0.04675167053937912, 0.8415300846099854, 0.9682206511497498, 0.33635252714157104, 0.24272862076759338, 0.3432876169681549, 0.07628613710403442, 0.9702170491218567, 0.31557393074035645, 0.2035960853099823, 0.09161823242902756, 0.3970123529434204, 0.9642139077186584, 0.9886588454246521, 0.9763253927230835, 0.3785179853439331, 0.22430695593357086, 0.3364604115486145, 0.056076738983392715, 0.8704240918159485, 0.9477181434631348, 0.9841569662094116, 0.30498096346855164, 0.2848723232746124, 0.2446550577878952, 0.16422052681446075, 0.05448606610298157, 0.2760627269744873, 0.5593903064727783, 0.1126045361161232, 0.9920819997787476, 0.9748267531394958, 0.9799036383628845, 0.010986380279064178, 0.7360875010490417, 0.2526867389678955, 0.37956738471984863, 0.33618825674057007, 0.25485238432884216, 0.027111954987049103, 0.0021556844003498554, 0.9959262013435364, 0.3307895362377167, 0.5974463820457458, 0.04725564643740654, 0.02362782321870327, 0.9282937049865723, 0.04686126112937927, 0.9606558680534363, 0.7210286855697632, 0.09346668422222137, 0.04005714878439903, 0.14687621593475342, 0.9145787358283997, 0.5218759775161743, 0.21764333546161652, 0.1661578267812729, 0.09595029056072235, 0.9837806224822998, 0.20116683840751648, 0.22631269693374634, 0.5615907907485962, 0.008381951600313187, 0.9817373752593994, 0.9132648706436157, 0.3249942362308502, 0.6782488226890564, 0.050576403737068176, 0.7586460709571838, 0.2023056149482727, 0.9195862412452698, 0.06130575016140938, 0.02043524943292141, 0.09213516116142273, 0.9213516116142273, 0.9222745299339294, 0.16690108180046082, 0.8081526160240173, 0.02635280229151249, 0.9470771551132202, 0.9546167850494385, 0.07728998363018036, 0.7265258431434631, 0.18549595773220062, 0.015457996167242527, 0.9081835150718689, 0.09730537980794907, 0.957675576210022, 0.9879727363586426, 0.9649925827980042, 0.985755443572998, 0.9146972298622131, 0.95658940076828, 0.04862606152892113, 0.9238951802253723, 0.024313030764460564, 0.9327412247657776, 0.055441711097955704, 0.012320379726588726, 0.9301886558532715, 0.2720913887023926, 0.6449573636054993, 0.030232375487685204, 0.06046475097537041, 0.9174210429191589, 0.30594852566719055, 0.5439084768295288, 0.1473085582256317, 0.016064781695604324, 0.9799516797065735, 0.07118190824985504, 0.9253647923469543, 0.838492214679718, 0.03811328485608101, 0.12386816740036011, 0.9750591516494751, 0.009805599227547646, 0.9805599451065063, 0.9798307418823242, 0.8083622455596924, 0.1212543398141861, 0.07073169946670532, 0.023496322333812714, 0.0822371244430542, 0.3876893222332001, 0.5051709413528442, 0.15535934269428253, 0.32679036259651184, 0.2785753905773163, 0.23571763932704926, 0.28514984250068665, 0.12006308883428574, 0.06753548234701157, 0.5327799320220947, 0.9373846650123596, 0.9965242743492126, 0.412087082862854, 0.5872240662574768, 0.04402276501059532, 0.9391523003578186, 0.014674254693090916, 0.9440808892250061, 0.19238442182540894, 0.36072078347206116, 0.4088169038295746, 0.036072079092264175, 0.13359783589839935, 0.8461196422576904, 0.618587851524353, 0.2319704294204712, 0.14360074698925018, 0.9391221404075623, 0.9762885570526123, 0.9428750872612, 0.49623769521713257, 0.04616164416074753, 0.45007604360580444, 0.9098796248435974, 0.8795135021209717, 0.09098415076732635, 0.7759984135627747, 0.05969218537211418, 0.139281764626503, 0.7319483757019043, 0.05500189960002899, 0.2073148488998413, 0.9445920586585999, 0.9224439859390259, 0.903033435344696, 0.08739033341407776, 0.029130112379789352, 0.9105358123779297, 0.07284286618232727, 0.9905945658683777, 0.9512918591499329, 0.9487366676330566, 0.6704758405685425, 0.25496968626976013, 0.07554657012224197, 0.07572496682405472, 0.005048330873250961, 0.9162721037864685, 0.9908620119094849, 0.986781656742096, 0.9431955814361572, 0.9657562375068665, 0.02926534041762352, 0.09007425606250763, 0.9007425308227539, 0.17263071238994598, 0.7876275777816772, 0.010789419524371624, 0.0323682576417923, 0.9665317535400391, 0.9742480516433716, 0.7629220485687256, 0.03246476873755455, 0.1866724193096161, 0.024348577484488487, 0.34368789196014404, 0.3176509141921997, 0.1770513355731964, 0.16142916679382324, 0.13318777084350586, 0.8435226082801819, 0.9329736232757568, 0.21629910171031952, 0.31130897998809814, 0.2971585690975189, 0.17586936056613922, 0.08932670205831528, 0.3573068082332611, 0.5359602570533752, 0.0014837832422927022, 0.0014837832422927022, 0.9956185817718506, 0.0029675664845854044, 0.27336302399635315, 0.3919009864330292, 0.3144884407520294, 0.01935313455760479, 0.9411856532096863, 0.9873974323272705, 0.5317565202713013, 0.4336654841899872, 0.030976107344031334, 0.9535738229751587, 0.9330787062644958, 0.1843864619731903, 0.12907052040100098, 0.5301110744476318, 0.15672849118709564, 0.7963422536849976, 0.16913463175296783, 0.02114182896912098, 0.014094552956521511, 0.9651817083358765, 0.5181968808174133, 0.45157158374786377, 0.0296112522482872, 0.07007988542318344, 0.07007988542318344, 0.38933271169662476, 0.4671992361545563, 0.9821491241455078, 0.5474851131439209, 0.20804435014724731, 0.19161979854106903, 0.05474851280450821, 0.9490163326263428, 0.9429435729980469, 0.24668122828006744, 0.39244741201400757, 0.22425566613674164, 0.13455340266227722, 0.9705670475959778, 0.9779565334320068, 0.9328343868255615], \"Term\": [\"/home\", \"add\", \"add\", \"add\", \"add\", \"admins\", \"affect\", \"agreement\", \"amend\", \"analyzer\", \"annotation\", \"annotation\", \"annotation\", \"apart\", \"apply\", \"apply\", \"apply\", \"apply\", \"asciidoc\", \"ask\", \"async\", \"async\", \"attribute\", \"attribute\", \"avoid\", \"avoid\", \"avoid\", \"away\", \"backported\", \"base\", \"base\", \"base\", \"base\", \"bean\", \"bean\", \"bekhta\", \"bekhta\", \"blank\", \"blob\", \"blob\", \"block\", \"block\", \"boolean\", \"boot\", \"boot\", \"branch\", \"branch\", \"branch\", \"build\", \"build\", \"build\", \"build\", \"cache\", \"calling\", \"cascade\", \"case\", \"case\", \"case\", \"case\", \"change\", \"change\", \"change\", \"change\", \"check\", \"check\", \"check\", \"check\", \"cherry\", \"class\", \"class\", \"class\", \"class\", \"click\", \"code\", \"code\", \"code\", \"code\", \"collection\", \"collection\", \"collection\", \"coming\", \"comment\", \"comment\", \"comment\", \"comment\", \"commit\", \"commit\", \"commit\", \"commit\", \"configuration\", \"configuration\", \"configuration\", \"configuration\", \"constraint\", \"constraint\", \"container\", \"container\", \"contributing.md#sign\", \"contribution\", \"contributor\", \"cool\", \"create\", \"create\", \"create\", \"create\", \"createhsquery\", \"data\", \"data\", \"data\", \"data\", \"database\", \"deal\", \"default\", \"default\", \"default\", \"default\", \"dependency\", \"dependency\", \"design\", \"different\", \"different\", \"different\", \"doc\", \"doc\", \"doc\", \"doc\", \"document\", \"document\", \"document\", \"documentation\", \"documentation\", \"documentation\", \"documentation\", \"duration\", \"early\", \"elasticsearch\", \"elasticsearch\", \"element\", \"elements\", \"email\", \"email\", \"encoding\", \"enum\", \"errorhandler\", \"event\", \"experimental\", \"expiringsession\", \"facet\", \"feedback\", \"feedback\", \"field\", \"field\", \"file\", \"file\", \"file\", \"file\", \"findbyindexnamesessionrepository\", \"fix\", \"fix\", \"fix\", \"fix\", \"flush\", \"force\", \"force\", \"force\", \"forceasync\", \"forget\", \"forget\", \"frequently\", \"frequently\", \"gemfire\", \"getter\", \"good\", \"good\", \"good\", \"good\", \"gradle\", \"gradle\", \"great\", \"hibernate\", \"hibernate\", \"hibernate\", \"idea\", \"idea\", \"idea\", \"idea\", \"image\", \"implementation\", \"implementation\", \"implementation\", \"index\", \"index\", \"indexresolver\", \"inline\", \"inner\", \"instance\", \"instance\", \"instance\", \"instead\", \"instead\", \"instead\", \"instead\", \"integrate\", \"integrate\", \"integrate\", \"invalid\", \"issue\", \"issue\", \"issue\", \"issue\", \"jandex\", \"java\", \"java\", \"java\", \"java\", \"jboss\", \"jenkins\", \"json\", \"know\", \"know\", \"know\", \"know\", \"language\", \"legacy\", \"license\", \"like\", \"like\", \"like\", \"like\", \"look\", \"look\", \"look\", \"look\", \"lucene\", \"major\", \"map\", \"master\", \"master\", \"master\", \"maybe\", \"maybe\", \"maybe\", \"maybe\", \"merge\", \"merge\", \"method\", \"method\", \"method\", \"method\", \"millis\", \"minor\", \"minor\", \"module\", \"module\", \"module\", \"module\", \"mute\", \"need\", \"need\", \"need\", \"need\", \"nest\", \"nice\", \"nice\", \"nice\", \"nice\", \"node\", \"notifications@github.com\", \"null\", \"null\", \"number\", \"number\", \"number\", \"object\", \"object\", \"object\", \"operation\", \"operation\", \"org.springframework.beans.factory.beancreationexception\", \"parameter\", \"parameter\", \"parameter\", \"parameternameprovider\", \"paste\", \"path\", \"path\", \"path\", \"path\", \"pattern\", \"pattern\", \"person\", \"polish\", \"pom.xml\", \"port\", \"prepare\", \"principal\", \"private\", \"private\", \"private\", \"processor\", \"project\", \"project\", \"project\", \"property\", \"property\", \"property\", \"property\", \"proxy\", \"public\", \"public\", \"public\", \"pull\", \"pull\", \"push\", \"push\", \"query\", \"query\", \"query\", \"reading\", \"rebased\", \"rebased\", \"receive\", \"reference\", \"reference\", \"reference\", \"release\", \"release\", \"release\", \"release\", \"remove\", \"remove\", \"remove\", \"remove\", \"request\", \"request\", \"request\", \"request\", \"restdocs\", \"retest\", \"return\", \"return\", \"review\", \"review\", \"review\", \"rework\", \"right\", \"right\", \"right\", \"right\", \"root\", \"root\", \"sample\", \"sample\", \"sample\", \"sanne\", \"scope\", \"scoped\", \"search\", \"search\", \"search\", \"sequence\", \"server\", \"server\", \"service\", \"service\", \"service\", \"session\", \"session\", \"session\", \"sessionrepository\", \"sessionrepositoryfilter\", \"sessions\", \"sessions\", \"sessions\", \"share\", \"share\", \"sign\", \"signing\", \"size\", \"specific\", \"specific\", \"specific\", \"spring\", \"spring\", \"spring\", \"spring?repositoryid\", \"squash\", \"status\", \"store\", \"store\", \"stream\", \"stream\", \"string\", \"string\", \"string\", \"string\", \"style\", \"submit\", \"support\", \"support\", \"support\", \"support\", \"sure\", \"sure\", \"sure\", \"sure\", \"sync\", \"sync\", \"synchronization\", \"test\", \"test\", \"test\", \"test\", \"thank\", \"thank\", \"thank\", \"thanks\", \"thanks\", \"thanks\", \"thanks\", \"think\", \"think\", \"think\", \"think\", \"travis\", \"trust\", \"type\", \"type\", \"type\", \"typo\", \"unwrap\", \"update\", \"update\", \"update\", \"update\", \"user\", \"user\", \"user\", \"user\", \"validate\", \"value\", \"value\", \"value\", \"version\", \"version\", \"version\", \"version\", \"waiting\", \"want\", \"want\", \"want\", \"want\", \"weight\", \"whitelist\", \"work\", \"work\", \"work\", \"work\", \"workspace\", \"wrap\", \"writer\"]}, \"R\": 30, \"lambda.step\": 0.01, \"plot.opts\": {\"xlab\": \"PC1\", \"ylab\": \"PC2\"}, \"topic.order\": [3, 2, 1, 4]};\n",
       "\n",
       "function LDAvis_load_lib(url, callback){\n",
       "  var s = document.createElement('script');\n",
       "  s.src = url;\n",
       "  s.async = true;\n",
       "  s.onreadystatechange = s.onload = callback;\n",
       "  s.onerror = function(){console.warn(\"failed to load library \" + url);};\n",
       "  document.getElementsByTagName(\"head\")[0].appendChild(s);\n",
       "}\n",
       "\n",
       "if(typeof(LDAvis) !== \"undefined\"){\n",
       "   // already loaded: just create the visualization\n",
       "   !function(LDAvis){\n",
       "       new LDAvis(\"#\" + \"ldavis_el3346425118627424962881295709\", ldavis_el3346425118627424962881295709_data);\n",
       "   }(LDAvis);\n",
       "}else if(typeof define === \"function\" && define.amd){\n",
       "   // require.js is available: use it to load d3/LDAvis\n",
       "   require.config({paths: {d3: \"https://cdnjs.cloudflare.com/ajax/libs/d3/3.5.5/d3.min\"}});\n",
       "   require([\"d3\"], function(d3){\n",
       "      window.d3 = d3;\n",
       "      LDAvis_load_lib(\"https://cdn.rawgit.com/bmabey/pyLDAvis/files/ldavis.v1.0.0.js\", function(){\n",
       "        new LDAvis(\"#\" + \"ldavis_el3346425118627424962881295709\", ldavis_el3346425118627424962881295709_data);\n",
       "      });\n",
       "    });\n",
       "}else{\n",
       "    // require.js not available: dynamically load d3 & LDAvis\n",
       "    LDAvis_load_lib(\"https://cdnjs.cloudflare.com/ajax/libs/d3/3.5.5/d3.min.js\", function(){\n",
       "         LDAvis_load_lib(\"https://cdn.rawgit.com/bmabey/pyLDAvis/files/ldavis.v1.0.0.js\", function(){\n",
       "                 new LDAvis(\"#\" + \"ldavis_el3346425118627424962881295709\", ldavis_el3346425118627424962881295709_data);\n",
       "            })\n",
       "         });\n",
       "}\n",
       "</script>"
      ],
      "text/plain": [
       "<IPython.core.display.HTML object>"
      ]
     },
     "execution_count": 122,
     "metadata": {},
     "output_type": "execute_result"
    }
   ],
   "source": [
    "vis = pyLDAvis.gensim.prepare(ldamodel, corpus, dictionary)\n",
    "pyLDAvis.display(vis)"
   ]
  },
  {
   "cell_type": "markdown",
   "metadata": {},
   "source": [
    "The above visualization tells us 3 things.  \n",
    "1. There are still symbols and contractions that need to be cleaned.  \n",
    "2. Most of the top topics are very common words that do not provide much information as to problems that the comment is addressing.  \n",
    "3. There are overlapping topics that we can combine.  \n",
    "Topic 1 contains words like database, encoding, search, query which lead me to believe this topic is related to compiling data.  \n",
    "Topic 2 consists of words that appear to be related to properties of objects.  \n",
    "Topic 3 seems to deal mostly with github related keywords such as: \"merge\", \"push\", and \"master\",  as well as basic actions such as fixing, applying, and testing.\n",
    "Topic 4 points to activities related to the spring project.  \n",
    "\n",
    "It is challenging to get specific semantic meanings in each comment because the median length of each comment. Unigrams are also limited in the semantic values that they represent."
   ]
  },
  {
   "cell_type": "code",
   "execution_count": 123,
   "metadata": {},
   "outputs": [
    {
     "data": {
      "text/plain": [
       "3576"
      ]
     },
     "execution_count": 123,
     "metadata": {},
     "output_type": "execute_result"
    }
   ],
   "source": [
    "len(corpus)"
   ]
  },
  {
   "cell_type": "code",
   "execution_count": null,
   "metadata": {},
   "outputs": [],
   "source": []
  }
 ],
 "metadata": {
  "kernelspec": {
   "display_name": "Python 3",
   "language": "python",
   "name": "python3"
  },
  "language_info": {
   "codemirror_mode": {
    "name": "ipython",
    "version": 3
   },
   "file_extension": ".py",
   "mimetype": "text/x-python",
   "name": "python",
   "nbconvert_exporter": "python",
   "pygments_lexer": "ipython3",
   "version": "3.7.2"
  }
 },
 "nbformat": 4,
 "nbformat_minor": 2
}
